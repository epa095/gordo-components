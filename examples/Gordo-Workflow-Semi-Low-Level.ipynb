{
 "cells": [
  {
   "cell_type": "markdown",
   "metadata": {},
   "source": [
    "## Running a Gordo workflow locally:\n",
    "\n",
    "This demonstrates the basic workflow of gordo, running locally.\n",
    "\n",
    "---\n",
    "\n",
    "### Import and initialize a Gordo dataset\n",
    "In this case we shall be using the `DataLakeProvider` where `InfluxDataProvider` is also available."
   ]
  },
  {
   "cell_type": "code",
   "execution_count": null,
   "metadata": {},
   "outputs": [],
   "source": [
    "import dateutil.parser\n",
    "import yaml\n",
    "\n",
    "from datetime import datetime\n",
    "\n",
    "from gordo_components.dataset.datasets import TimeSeriesDataset\n",
    "from gordo_components.data_provider.providers import DataLakeProvider\n",
    "from gordo_components import serializer\n",
    "\n",
    "data_provider = DataLakeProvider(storename=\"dataplatformdlsprod\", interactive=True)\n",
    "dataset = TimeSeriesDataset(from_ts=dateutil.parser.isoparse('2016-07-01T00:10:00+00:00'),\n",
    "    to_ts=dateutil.parser.isoparse('2017-01-01T00:00:00+00:00'),\n",
    "    tag_list=[\n",
    "        'asgb.19ZT3950%2FY%2FPRIM',\n",
    "        'asgb.19PST3925%2FDispMeasOut%2FPRIM'\n",
    "    ],\n",
    "    data_provider=data_provider)"
   ]
  },
  {
   "cell_type": "markdown",
   "metadata": {},
   "source": [
    "### We'll need to login to Azure to authenticate the ability load data from the Data Lake"
   ]
  },
  {
   "cell_type": "code",
   "execution_count": null,
   "metadata": {},
   "outputs": [],
   "source": [
    "X, y = dataset.get_data()"
   ]
  },
  {
   "cell_type": "code",
   "execution_count": 3,
   "metadata": {},
   "outputs": [
    {
     "data": {
      "text/html": [
       "<div>\n",
       "<style scoped>\n",
       "    .dataframe tbody tr th:only-of-type {\n",
       "        vertical-align: middle;\n",
       "    }\n",
       "\n",
       "    .dataframe tbody tr th {\n",
       "        vertical-align: top;\n",
       "    }\n",
       "\n",
       "    .dataframe thead th {\n",
       "        text-align: right;\n",
       "    }\n",
       "</style>\n",
       "<table border=\"1\" class=\"dataframe\">\n",
       "  <thead>\n",
       "    <tr style=\"text-align: right;\">\n",
       "      <th></th>\n",
       "      <th>asgb.19ZT3950%2FY%2FPRIM</th>\n",
       "      <th>asgb.19PST3925%2FDispMeasOut%2FPRIM</th>\n",
       "    </tr>\n",
       "  </thead>\n",
       "  <tbody>\n",
       "    <tr>\n",
       "      <th>2016-07-01 07:40:00+00:00</th>\n",
       "      <td>99.989201</td>\n",
       "      <td>46.329</td>\n",
       "    </tr>\n",
       "    <tr>\n",
       "      <th>2016-07-01 07:50:00+00:00</th>\n",
       "      <td>99.989201</td>\n",
       "      <td>46.329</td>\n",
       "    </tr>\n",
       "    <tr>\n",
       "      <th>2016-07-01 08:00:00+00:00</th>\n",
       "      <td>99.989201</td>\n",
       "      <td>46.329</td>\n",
       "    </tr>\n",
       "    <tr>\n",
       "      <th>2016-07-01 08:10:00+00:00</th>\n",
       "      <td>99.989201</td>\n",
       "      <td>46.329</td>\n",
       "    </tr>\n",
       "    <tr>\n",
       "      <th>2016-07-01 08:20:00+00:00</th>\n",
       "      <td>99.989201</td>\n",
       "      <td>46.329</td>\n",
       "    </tr>\n",
       "  </tbody>\n",
       "</table>\n",
       "</div>"
      ],
      "text/plain": [
       "                           asgb.19ZT3950%2FY%2FPRIM  \\\n",
       "2016-07-01 07:40:00+00:00                 99.989201   \n",
       "2016-07-01 07:50:00+00:00                 99.989201   \n",
       "2016-07-01 08:00:00+00:00                 99.989201   \n",
       "2016-07-01 08:10:00+00:00                 99.989201   \n",
       "2016-07-01 08:20:00+00:00                 99.989201   \n",
       "\n",
       "                           asgb.19PST3925%2FDispMeasOut%2FPRIM  \n",
       "2016-07-01 07:40:00+00:00                               46.329  \n",
       "2016-07-01 07:50:00+00:00                               46.329  \n",
       "2016-07-01 08:00:00+00:00                               46.329  \n",
       "2016-07-01 08:10:00+00:00                               46.329  \n",
       "2016-07-01 08:20:00+00:00                               46.329  "
      ]
     },
     "execution_count": 3,
     "metadata": {},
     "output_type": "execute_result"
    }
   ],
   "source": [
    "X.head()"
   ]
  },
  {
   "cell_type": "markdown",
   "metadata": {},
   "source": [
    "### Define a pipeline for model building"
   ]
  },
  {
   "cell_type": "code",
   "execution_count": 4,
   "metadata": {},
   "outputs": [
    {
     "data": {
      "text/plain": [
       "Pipeline(memory=None,\n",
       "         steps=[('step_0', MinMaxScaler(copy=True, feature_range=(0, 1))),\n",
       "                ('step_1',\n",
       "                 <gordo_components.model.models.KerasAutoEncoder object at 0x7f6ef5a09be0>)],\n",
       "         verbose=False)"
      ]
     },
     "execution_count": 4,
     "metadata": {},
     "output_type": "execute_result"
    }
   ],
   "source": [
    "config = yaml.load(\n",
    "    \"\"\" \n",
    "    sklearn.pipeline.Pipeline:\n",
    "        steps:\n",
    "          - sklearn.preprocessing.data.MinMaxScaler\n",
    "          - gordo_components.model.models.KerasAutoEncoder:\n",
    "              kind: feedforward_hourglass\n",
    "    \"\"\"\n",
    ")\n",
    "pipe = serializer.pipeline_from_definition(config)\n",
    "pipe"
   ]
  },
  {
   "cell_type": "markdown",
   "metadata": {},
   "source": [
    "### AutoEncoders were agreed to meet the specifications of a `Transformer`. Therefore, they do not implement a `predict` method.\n",
    "\n",
    "We shall then call `fit_transform` or `fit` -> `transform` if desired to treat datasets separately. "
   ]
  },
  {
   "cell_type": "code",
   "execution_count": 5,
   "metadata": {},
   "outputs": [
    {
     "name": "stderr",
     "output_type": "stream",
     "text": [
      "/private/milg/Projects/gordo-components/venv/lib/python3.6/site-packages/sklearn/preprocessing/data.py:323: DataConversionWarning: Data with input dtype float32 were all converted to float64 by MinMaxScaler.\n",
      "  return self.partial_fit(X, y)\n"
     ]
    },
    {
     "name": "stdout",
     "output_type": "stream",
     "text": [
      "Epoch 1/1\n",
      "26451/26451 [==============================] - 1s 40us/step - loss: 0.0382 - acc: 0.6308\n"
     ]
    }
   ],
   "source": [
    "pipe.fit(X)\n",
    "xhat = pipe.predict(X)"
   ]
  },
  {
   "cell_type": "markdown",
   "metadata": {},
   "source": [
    "---\n",
    "### `xhat` is now the auto-encoded result*\n",
    "\n",
    "*where the first half of each resulting sample was the _input_ to the model and secondhalf is the _output_"
   ]
  },
  {
   "cell_type": "code",
   "execution_count": 6,
   "metadata": {},
   "outputs": [
    {
     "data": {
      "text/plain": [
       "array([[0.30955735, 0.2324789 ],\n",
       "       [0.30955735, 0.2324789 ],\n",
       "       [0.30955735, 0.2324789 ],\n",
       "       ...,\n",
       "       [0.05328919, 0.8471484 ],\n",
       "       [0.05328919, 0.8471484 ],\n",
       "       [0.05328919, 0.8471484 ]], dtype=float32)"
      ]
     },
     "execution_count": 6,
     "metadata": {},
     "output_type": "execute_result"
    }
   ],
   "source": [
    "xhat"
   ]
  },
  {
   "cell_type": "code",
   "execution_count": null,
   "metadata": {},
   "outputs": [],
   "source": []
  },
  {
   "cell_type": "markdown",
   "metadata": {},
   "source": [
    "### Using different aggregation methods\n",
    "By default the `TimeSeriesDataset` resamples the data using the `mean`, but this can be customized, and one can even\n",
    "use several aggregation methods. In the following example we use `max`"
   ]
  },
  {
   "cell_type": "code",
   "execution_count": 7,
   "metadata": {
    "pycharm": {
     "is_executing": false,
     "name": "#%%\n"
    }
   },
   "outputs": [],
   "source": [
    "dataset = TimeSeriesDataset(from_ts=dateutil.parser.isoparse('2016-07-01T00:10:00+00:00'),\n",
    "    to_ts=dateutil.parser.isoparse('2017-01-01T00:00:00+00:00'),\n",
    "    tag_list=[\n",
    "        'asgb.19ZT3950%2FY%2FPRIM',\n",
    "        'asgb.19PST3925%2FDispMeasOut%2FPRIM'\n",
    "    ],\n",
    "    aggregation_methods=\"max\",\n",
    "    data_provider=data_provider)\n"
   ]
  },
  {
   "cell_type": "code",
   "execution_count": 8,
   "metadata": {
    "pycharm": {
     "name": "#%%\n"
    }
   },
   "outputs": [],
   "source": [
    "X, y = dataset.get_data()"
   ]
  },
  {
   "cell_type": "code",
   "execution_count": 9,
   "metadata": {
    "pycharm": {
     "name": "#%%\n"
    }
   },
   "outputs": [
    {
     "data": {
      "text/html": [
       "<div>\n",
       "<style scoped>\n",
       "    .dataframe tbody tr th:only-of-type {\n",
       "        vertical-align: middle;\n",
       "    }\n",
       "\n",
       "    .dataframe tbody tr th {\n",
       "        vertical-align: top;\n",
       "    }\n",
       "\n",
       "    .dataframe thead th {\n",
       "        text-align: right;\n",
       "    }\n",
       "</style>\n",
       "<table border=\"1\" class=\"dataframe\">\n",
       "  <thead>\n",
       "    <tr style=\"text-align: right;\">\n",
       "      <th></th>\n",
       "      <th>asgb.19ZT3950%2FY%2FPRIM</th>\n",
       "      <th>asgb.19PST3925%2FDispMeasOut%2FPRIM</th>\n",
       "    </tr>\n",
       "  </thead>\n",
       "  <tbody>\n",
       "    <tr>\n",
       "      <th>2016-07-01 07:40:00+00:00</th>\n",
       "      <td>100.032417</td>\n",
       "      <td>46.330772</td>\n",
       "    </tr>\n",
       "    <tr>\n",
       "      <th>2016-07-01 07:50:00+00:00</th>\n",
       "      <td>100.032417</td>\n",
       "      <td>46.330772</td>\n",
       "    </tr>\n",
       "    <tr>\n",
       "      <th>2016-07-01 08:00:00+00:00</th>\n",
       "      <td>100.032417</td>\n",
       "      <td>46.330772</td>\n",
       "    </tr>\n",
       "    <tr>\n",
       "      <th>2016-07-01 08:10:00+00:00</th>\n",
       "      <td>100.032417</td>\n",
       "      <td>46.330772</td>\n",
       "    </tr>\n",
       "    <tr>\n",
       "      <th>2016-07-01 08:20:00+00:00</th>\n",
       "      <td>100.032417</td>\n",
       "      <td>46.330772</td>\n",
       "    </tr>\n",
       "  </tbody>\n",
       "</table>\n",
       "</div>"
      ],
      "text/plain": [
       "                           asgb.19ZT3950%2FY%2FPRIM  \\\n",
       "2016-07-01 07:40:00+00:00                100.032417   \n",
       "2016-07-01 07:50:00+00:00                100.032417   \n",
       "2016-07-01 08:00:00+00:00                100.032417   \n",
       "2016-07-01 08:10:00+00:00                100.032417   \n",
       "2016-07-01 08:20:00+00:00                100.032417   \n",
       "\n",
       "                           asgb.19PST3925%2FDispMeasOut%2FPRIM  \n",
       "2016-07-01 07:40:00+00:00                            46.330772  \n",
       "2016-07-01 07:50:00+00:00                            46.330772  \n",
       "2016-07-01 08:00:00+00:00                            46.330772  \n",
       "2016-07-01 08:10:00+00:00                            46.330772  \n",
       "2016-07-01 08:20:00+00:00                            46.330772  "
      ]
     },
     "execution_count": 9,
     "metadata": {},
     "output_type": "execute_result"
    }
   ],
   "source": [
    "X.head()\n"
   ]
  },
  {
   "cell_type": "markdown",
   "metadata": {},
   "source": [
    "We can also resample with multiple resampling methods:"
   ]
  },
  {
   "cell_type": "code",
   "execution_count": 10,
   "metadata": {
    "pycharm": {
     "name": "#%%\n"
    }
   },
   "outputs": [],
   "source": [
    "dataset = TimeSeriesDataset(from_ts=dateutil.parser.isoparse('2016-07-01T00:10:00+00:00'),\n",
    "    to_ts=dateutil.parser.isoparse('2017-01-01T00:00:00+00:00'),\n",
    "    tag_list=[\n",
    "        'asgb.19ZT3950%2FY%2FPRIM',\n",
    "        'asgb.19PST3925%2FDispMeasOut%2FPRIM'\n",
    "    ],\n",
    "    aggregation_methods=[\"max\",\"min\",\"mean\"],\n",
    "    data_provider=data_provider)\n"
   ]
  },
  {
   "cell_type": "code",
   "execution_count": 11,
   "metadata": {
    "pycharm": {
     "name": "#%%\n"
    }
   },
   "outputs": [],
   "source": [
    "X, y = dataset.get_data()"
   ]
  },
  {
   "cell_type": "code",
   "execution_count": 12,
   "metadata": {
    "pycharm": {
     "name": "#%%\n"
    }
   },
   "outputs": [
    {
     "data": {
      "text/html": [
       "<div>\n",
       "<style scoped>\n",
       "    .dataframe tbody tr th:only-of-type {\n",
       "        vertical-align: middle;\n",
       "    }\n",
       "\n",
       "    .dataframe tbody tr th {\n",
       "        vertical-align: top;\n",
       "    }\n",
       "\n",
       "    .dataframe thead th {\n",
       "        text-align: right;\n",
       "    }\n",
       "</style>\n",
       "<table border=\"1\" class=\"dataframe\">\n",
       "  <thead>\n",
       "    <tr style=\"text-align: right;\">\n",
       "      <th></th>\n",
       "      <th>asgb.19ZT3950%2FY%2FPRIM_max</th>\n",
       "      <th>asgb.19ZT3950%2FY%2FPRIM_min</th>\n",
       "      <th>asgb.19ZT3950%2FY%2FPRIM_mean</th>\n",
       "      <th>asgb.19PST3925%2FDispMeasOut%2FPRIM_max</th>\n",
       "      <th>asgb.19PST3925%2FDispMeasOut%2FPRIM_min</th>\n",
       "      <th>asgb.19PST3925%2FDispMeasOut%2FPRIM_mean</th>\n",
       "    </tr>\n",
       "  </thead>\n",
       "  <tbody>\n",
       "    <tr>\n",
       "      <th>2016-07-01 07:40:00+00:00</th>\n",
       "      <td>100.032417</td>\n",
       "      <td>99.945984</td>\n",
       "      <td>99.989201</td>\n",
       "      <td>46.330772</td>\n",
       "      <td>46.327229</td>\n",
       "      <td>46.329</td>\n",
       "    </tr>\n",
       "    <tr>\n",
       "      <th>2016-07-01 07:50:00+00:00</th>\n",
       "      <td>100.032417</td>\n",
       "      <td>99.945984</td>\n",
       "      <td>99.989201</td>\n",
       "      <td>46.330772</td>\n",
       "      <td>46.327229</td>\n",
       "      <td>46.329</td>\n",
       "    </tr>\n",
       "    <tr>\n",
       "      <th>2016-07-01 08:00:00+00:00</th>\n",
       "      <td>100.032417</td>\n",
       "      <td>99.945984</td>\n",
       "      <td>99.989201</td>\n",
       "      <td>46.330772</td>\n",
       "      <td>46.327229</td>\n",
       "      <td>46.329</td>\n",
       "    </tr>\n",
       "    <tr>\n",
       "      <th>2016-07-01 08:10:00+00:00</th>\n",
       "      <td>100.032417</td>\n",
       "      <td>99.945984</td>\n",
       "      <td>99.989201</td>\n",
       "      <td>46.330772</td>\n",
       "      <td>46.327229</td>\n",
       "      <td>46.329</td>\n",
       "    </tr>\n",
       "    <tr>\n",
       "      <th>2016-07-01 08:20:00+00:00</th>\n",
       "      <td>100.032417</td>\n",
       "      <td>99.945984</td>\n",
       "      <td>99.989201</td>\n",
       "      <td>46.330772</td>\n",
       "      <td>46.327229</td>\n",
       "      <td>46.329</td>\n",
       "    </tr>\n",
       "  </tbody>\n",
       "</table>\n",
       "</div>"
      ],
      "text/plain": [
       "                           asgb.19ZT3950%2FY%2FPRIM_max  \\\n",
       "2016-07-01 07:40:00+00:00                    100.032417   \n",
       "2016-07-01 07:50:00+00:00                    100.032417   \n",
       "2016-07-01 08:00:00+00:00                    100.032417   \n",
       "2016-07-01 08:10:00+00:00                    100.032417   \n",
       "2016-07-01 08:20:00+00:00                    100.032417   \n",
       "\n",
       "                           asgb.19ZT3950%2FY%2FPRIM_min  \\\n",
       "2016-07-01 07:40:00+00:00                     99.945984   \n",
       "2016-07-01 07:50:00+00:00                     99.945984   \n",
       "2016-07-01 08:00:00+00:00                     99.945984   \n",
       "2016-07-01 08:10:00+00:00                     99.945984   \n",
       "2016-07-01 08:20:00+00:00                     99.945984   \n",
       "\n",
       "                           asgb.19ZT3950%2FY%2FPRIM_mean  \\\n",
       "2016-07-01 07:40:00+00:00                      99.989201   \n",
       "2016-07-01 07:50:00+00:00                      99.989201   \n",
       "2016-07-01 08:00:00+00:00                      99.989201   \n",
       "2016-07-01 08:10:00+00:00                      99.989201   \n",
       "2016-07-01 08:20:00+00:00                      99.989201   \n",
       "\n",
       "                           asgb.19PST3925%2FDispMeasOut%2FPRIM_max  \\\n",
       "2016-07-01 07:40:00+00:00                                46.330772   \n",
       "2016-07-01 07:50:00+00:00                                46.330772   \n",
       "2016-07-01 08:00:00+00:00                                46.330772   \n",
       "2016-07-01 08:10:00+00:00                                46.330772   \n",
       "2016-07-01 08:20:00+00:00                                46.330772   \n",
       "\n",
       "                           asgb.19PST3925%2FDispMeasOut%2FPRIM_min  \\\n",
       "2016-07-01 07:40:00+00:00                                46.327229   \n",
       "2016-07-01 07:50:00+00:00                                46.327229   \n",
       "2016-07-01 08:00:00+00:00                                46.327229   \n",
       "2016-07-01 08:10:00+00:00                                46.327229   \n",
       "2016-07-01 08:20:00+00:00                                46.327229   \n",
       "\n",
       "                           asgb.19PST3925%2FDispMeasOut%2FPRIM_mean  \n",
       "2016-07-01 07:40:00+00:00                                    46.329  \n",
       "2016-07-01 07:50:00+00:00                                    46.329  \n",
       "2016-07-01 08:00:00+00:00                                    46.329  \n",
       "2016-07-01 08:10:00+00:00                                    46.329  \n",
       "2016-07-01 08:20:00+00:00                                    46.329  "
      ]
     },
     "execution_count": 12,
     "metadata": {},
     "output_type": "execute_result"
    }
   ],
   "source": [
    "X.head()\n"
   ]
  }
 ],
 "metadata": {
  "kernelspec": {
   "display_name": "Python 3",
   "language": "python",
   "name": "python3"
  },
  "language_info": {
   "codemirror_mode": {
    "name": "ipython",
    "version": 3
   },
   "file_extension": ".py",
   "mimetype": "text/x-python",
   "name": "python",
   "nbconvert_exporter": "python",
   "pygments_lexer": "ipython3",
   "version": "3.6.6"
  }
 },
 "nbformat": 4,
 "nbformat_minor": 2
}
